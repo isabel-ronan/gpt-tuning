{
 "cells": [
  {
   "cell_type": "markdown",
   "metadata": {},
   "source": [
    "# Train Models - Step 3 & 4"
   ]
  },
  {
   "cell_type": "code",
   "execution_count": 59,
   "metadata": {},
   "outputs": [],
   "source": [
    "import openai\n",
    "from openai import OpenAI\n",
    "import os\n",
    "from dotenv import load_dotenv\n",
    "from itertools import product"
   ]
  },
  {
   "cell_type": "code",
   "execution_count": 2,
   "metadata": {},
   "outputs": [],
   "source": [
    "# load environment variables from .env file\n",
    "load_dotenv()  \n",
    "openai.api_key = os.getenv('OPENAI_API_KEY')\n",
    "client = OpenAI()"
   ]
  },
  {
   "cell_type": "markdown",
   "metadata": {},
   "source": [
    "## Defaults - Step 3"
   ]
  },
  {
   "cell_type": "code",
   "execution_count": null,
   "metadata": {},
   "outputs": [],
   "source": [
    "# upload training file\n",
    "training_file = client.files.create(\n",
    "    file=open(\"./tuning_files/train.jsonl\", \"rb\"),\n",
    "    purpose=\"fine-tune\"\n",
    ")\n",
    "# upload validation file\n",
    "valid_file = client.files.create(\n",
    "    file=open(\"./tuning_files/valid.jsonl\", \"rb\"),\n",
    "    purpose=\"fine-tune\"\n",
    ")"
   ]
  },
  {
   "cell_type": "code",
   "execution_count": null,
   "metadata": {},
   "outputs": [],
   "source": [
    "# create a training job\n",
    "# model selected based on OpenAI documentation recommendations as of 15-07-2024\n",
    "default_train = client.fine_tuning.jobs.create(\n",
    "  training_file= training_file.id, \n",
    "  validation_file=valid_file.id,\n",
    "  model=\"gpt-3.5-turbo-0125\",\n",
    "  suffix=\"default-aci-bench\",\n",
    "  seed = 42\n",
    ")"
   ]
  },
  {
   "cell_type": "code",
   "execution_count": 32,
   "metadata": {},
   "outputs": [],
   "source": [
    "default_train = client.fine_tuning.jobs.retrieve(\"ftjob-EytdC3lvCLuQ70T3OCQb3Rf4\")"
   ]
  },
  {
   "cell_type": "code",
   "execution_count": 39,
   "metadata": {},
   "outputs": [
    {
     "data": {
      "text/plain": [
       "'succeeded'"
      ]
     },
     "execution_count": 39,
     "metadata": {},
     "output_type": "execute_result"
    }
   ],
   "source": [
    "default_train.status"
   ]
  },
  {
   "cell_type": "markdown",
   "metadata": {},
   "source": [
    "## Manual Testing - Step 4"
   ]
  },
  {
   "cell_type": "code",
   "execution_count": 73,
   "metadata": {},
   "outputs": [
    {
     "name": "stdout",
     "output_type": "stream",
     "text": [
      "0 0.5 3 1\n",
      "1 0.5 3 32\n",
      "2 0.5 3 67\n",
      "3 0.5 10 1\n",
      "4 0.5 10 32\n",
      "5 0.5 10 67\n",
      "6 1 3 1\n",
      "7 1 3 32\n",
      "8 1 3 67\n",
      "9 1 10 1\n",
      "10 1 10 32\n",
      "11 1 10 67\n",
      "12 2 3 1\n",
      "13 2 3 32\n",
      "14 2 3 67\n",
      "15 2 10 1\n",
      "16 2 10 32\n",
      "17 2 10 67\n",
      "{'0': {'learning_rate_multiplier': '0.5', 'n_epochs': '3', 'batch_size': '1'}, '1': {'learning_rate_multiplier': '0.5', 'n_epochs': '3', 'batch_size': '32'}, '2': {'learning_rate_multiplier': '0.5', 'n_epochs': '3', 'batch_size': '67'}, '3': {'learning_rate_multiplier': '0.5', 'n_epochs': '10', 'batch_size': '1'}, '4': {'learning_rate_multiplier': '0.5', 'n_epochs': '10', 'batch_size': '32'}, '5': {'learning_rate_multiplier': '0.5', 'n_epochs': '10', 'batch_size': '67'}, '6': {'learning_rate_multiplier': '1', 'n_epochs': '3', 'batch_size': '1'}, '7': {'learning_rate_multiplier': '1', 'n_epochs': '3', 'batch_size': '32'}, '8': {'learning_rate_multiplier': '1', 'n_epochs': '3', 'batch_size': '67'}, '9': {'learning_rate_multiplier': '1', 'n_epochs': '10', 'batch_size': '1'}, '10': {'learning_rate_multiplier': '1', 'n_epochs': '10', 'batch_size': '32'}, '11': {'learning_rate_multiplier': '1', 'n_epochs': '10', 'batch_size': '67'}, '12': {'learning_rate_multiplier': '2', 'n_epochs': '3', 'batch_size': '1'}, '13': {'learning_rate_multiplier': '2', 'n_epochs': '3', 'batch_size': '32'}, '14': {'learning_rate_multiplier': '2', 'n_epochs': '3', 'batch_size': '67'}, '15': {'learning_rate_multiplier': '2', 'n_epochs': '10', 'batch_size': '1'}, '16': {'learning_rate_multiplier': '2', 'n_epochs': '10', 'batch_size': '32'}, '17': {'learning_rate_multiplier': '2', 'n_epochs': '10', 'batch_size': '67'}}\n"
     ]
    }
   ],
   "source": [
    "# define lists of all hyperparameters \n",
    "learning_rates = [0.5, 1, 2]\n",
    "epochs = [3, 10]\n",
    "batches = [1, 32, 67]\n",
    "\n",
    "# make dictionary of hyperparameters\n",
    "\n",
    "def make_dict(learning_rates, epochs, batches):\n",
    "    hyperparameters_dict = {}\n",
    "    count = 0\n",
    "    all_combinations = product(learning_rates, epochs, batches)\n",
    "    for rate, epoch, batch in all_combinations:\n",
    "        print(count, rate, epoch, batch)\n",
    "        hyperparameters_dict[f\"{count}\"] = {\n",
    "                        \"learning_rate_multiplier\": str(rate),\n",
    "                        \"n_epochs\": str(epoch),\n",
    "                        \"batch_size\": str(batch)\n",
    "                    }\n",
    "        count += 1\n",
    "    return hyperparameters_dict\n",
    "\n",
    "hyperparameters_dict = make_dict(learning_rates, epochs, batches)   \n",
    "print(hyperparameters_dict)"
   ]
  },
  {
   "cell_type": "code",
   "execution_count": 90,
   "metadata": {},
   "outputs": [
    {
     "data": {
      "text/plain": [
       "FineTuningJob(id='ftjob-ZMBUXYrPAI2CPXMrCmbKZBjJ', created_at=1721065489, error=Error(code=None, message=None, param=None), fine_tuned_model=None, finished_at=None, hyperparameters=Hyperparameters(n_epochs=10, batch_size=67, learning_rate_multiplier=2.0), model='gpt-3.5-turbo-0125', object='fine_tuning.job', organization_id='org-PM149zGSOC87X64hmzqjDsm3', result_files=[], seed=42, status='validating_files', trained_tokens=None, training_file='file-IUzCMcsHvKtgOUAZ7S0BTflQ', validation_file='file-i9Cn9gdkVGmZuE9qUIJOYcfy', estimated_finish=None, integrations=[], user_provided_suffix='id17-2-10-67')"
      ]
     },
     "execution_count": 90,
     "metadata": {},
     "output_type": "execute_result"
    }
   ],
   "source": [
    "# count is adjusted as each hyperparameter combination is tried (count in range of 0 to 17)\n",
    "count = 17\n",
    "# create training job\n",
    "temp_suffix = f\"id{count}-{hyperparameters_dict[f\"{count}\"][\"learning_rate_multiplier\"]}-{hyperparameters_dict[f\"{count}\"][\"n_epochs\"]}-{hyperparameters_dict[f\"{count}\"][\"batch_size\"]}\"\n",
    "client.fine_tuning.jobs.create(\n",
    "                    training_file= training_file, \n",
    "                    validation_file=valid_file,\n",
    "                    model=\"gpt-3.5-turbo-0125\",\n",
    "                    suffix=temp_suffix,\n",
    "                    seed = 42, \n",
    "                    hyperparameters=hyperparameters_dict[f\"{count}\"]\n",
    "                    )"
   ]
  }
 ],
 "metadata": {
  "kernelspec": {
   "display_name": "gpt-tuning",
   "language": "python",
   "name": "python3"
  },
  "language_info": {
   "codemirror_mode": {
    "name": "ipython",
    "version": 3
   },
   "file_extension": ".py",
   "mimetype": "text/x-python",
   "name": "python",
   "nbconvert_exporter": "python",
   "pygments_lexer": "ipython3",
   "version": "3.12.4"
  }
 },
 "nbformat": 4,
 "nbformat_minor": 2
}
