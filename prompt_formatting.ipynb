{
 "cells": [
  {
   "cell_type": "markdown",
   "metadata": {},
   "source": [
    "# Create Training Files - Step 1"
   ]
  },
  {
   "cell_type": "code",
   "execution_count": 79,
   "metadata": {},
   "outputs": [],
   "source": [
    "import pandas as pd\n",
    "import json"
   ]
  },
  {
   "cell_type": "code",
   "execution_count": 96,
   "metadata": {},
   "outputs": [],
   "source": [
    "def create_jsonl(load_file, save_file):\n",
    "    # load CSV file\n",
    "    df = pd.read_csv(load_file)\n",
    "    print(f\"File {load_file.split('/')[(len(load_file.split('/'))) - 1]} contains {len(df)} rows.\")\n",
    "    # put training data in the right prompt format - chat-style training is used\n",
    "    training_data = []\n",
    "    for i in range(len(df)):\n",
    "        dialogue = df['dialogue'][i]\n",
    "        note = df['note'][i]\n",
    "        training_data.append({\"messages\": [{\"role\": \"system\", \"content\": \"You are an expert medical professional. Given a clinical dialogue, create a clinical note outlining key dialogue aspects such as 'CHIEF COMPLAINT' (or 'CC'), 'HISTORY OF PRESENT ILLNESS' ('HPI'), 'REVIEW OF SYSTEMS', 'PHYSICAL EXAMINATION', 'VITALS REVIEWED', 'RESULTS', 'ASSESSMENT AND PLAN', 'INSTRUCTIONS', 'CURRENT MEDICATIONS', 'PAST MEDICAL HISTORY', 'EXAM', 'IMPRESSION', 'PLAN', 'ASSESSMENT', 'PAST HISTORY', 'ALLERGIES', 'SOCIAL HISTORY', 'PHYSICAL EXAM', 'PROCEDURE', 'FAMILY HISTORY', 'MEDICATIONS', 'VITALS', 'MEDICAL HISTORY', 'SURGICAL HISTORY'. You will not use all of these aspects in every dialogue, vary it from dialogue to dialogue.\"}, {\"role\": \"user\", \"content\": f\"Dialogue:{dialogue}\"}, {\"role\": \"assistant\", \"content\": f\"{note}\"}]})\n",
    "    # save in the required file format\n",
    "    if not '.jsonl' in save_file:\n",
    "        save_file = save_file + '.jsonl'\n",
    "    with open(f\"./tuning_files/{save_file}\", \"w\") as f:\n",
    "        for item in training_data:\n",
    "            f.write(json.dumps(item) + \"\\n\")\n"
   ]
  },
  {
   "cell_type": "code",
   "execution_count": 97,
   "metadata": {},
   "outputs": [
    {
     "name": "stdout",
     "output_type": "stream",
     "text": [
      "File train.csv contains 67 rows.\n",
      "File valid.csv contains 20 rows.\n"
     ]
    }
   ],
   "source": [
    "# create training data\n",
    "create_jsonl(\"./clinical_visit_note_summarization_corpus/data/aci-bench/challenge_data/train.csv\", \"train.jsonl\")\n",
    "# create validation data\n",
    "create_jsonl(\"./clinical_visit_note_summarization_corpus/data/aci-bench/challenge_data/valid.csv\", \"valid.jsonl\")"
   ]
  }
 ],
 "metadata": {
  "kernelspec": {
   "display_name": "nlp_metrics",
   "language": "python",
   "name": "python3"
  },
  "language_info": {
   "codemirror_mode": {
    "name": "ipython",
    "version": 3
   },
   "file_extension": ".py",
   "mimetype": "text/x-python",
   "name": "python",
   "nbconvert_exporter": "python",
   "pygments_lexer": "ipython3",
   "version": "3.12.4"
  }
 },
 "nbformat": 4,
 "nbformat_minor": 2
}
